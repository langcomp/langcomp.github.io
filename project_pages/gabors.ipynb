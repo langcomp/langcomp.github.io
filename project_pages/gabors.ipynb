{
 "cells": [
  {
   "cell_type": "markdown",
   "metadata": {
    "collapsed": true
   },
   "source": [
    "###Introduction\n",
    "####Perceptual Similarity Effects\n",
    "####Transposition Effects\n",
    "####Human Visual System/Simple Cells\n",
    "####Gabor Jets\n",
    "###Gabor Jet Model for Letter/Word Recognition\n",
    "###Results\n",
    "###Conclusion"
   ]
  },
  {
   "cell_type": "code",
   "execution_count": null,
   "metadata": {},
   "outputs": [],
   "source": [
    "# Import python library for this notebook\n",
    "import numpy as np # fundamental package for scientific computing\n",
    "import matplotlib.pyplot as plt # package for plot function\n",
    "\n",
    "\n",
    "# show figures inline\n",
    "%matplotlib inline"
   ]
  },
  {
   "cell_type": "code",
   "execution_count": null,
   "metadata": {},
   "outputs": [],
   "source": [
    ""
   ]
  }
 ],
 "metadata": {
  "kernelspec": {
   "display_name": "Python 2",
   "language": "python",
   "name": "python2"
  },
  "language_info": {
   "codemirror_mode": {
    "name": "ipython",
    "version": 2.0
   },
   "file_extension": ".py",
   "mimetype": "text/x-python",
   "name": "python",
   "nbconvert_exporter": "python",
   "pygments_lexer": "ipython2",
   "version": "2.7.6"
  }
 },
 "nbformat": 4,
 "nbformat_minor": 0
}